{
 "cells": [
  {
   "cell_type": "markdown",
   "metadata": {},
   "source": [
    "# Python Bootcamp\n",
    "\n",
    "Welcome to the python bootcamp. This thing you're reading is called an _ipython notebook_ and will be your first introduction to the Python programming language. Notebooks are a combination of text markup and code that you can run in real time.\n",
    "\n",
    "## Acknowledgement\n",
    "The original source of this notebook is from the Python Flying Circus workshop designed by Chris Burns and Shannon Patel (Carnegie Observatories), updated June 2020 for the CASSI program.\n",
    "\n",
    "In-file answers + additional exercises + comments/corrections + final exercise answer key file is completely by Pei Qin, updated June 30, 2020."
   ]
  },
  {
   "cell_type": "markdown",
   "metadata": {},
   "source": [
    "## Importing what you need\n",
    "\n",
    "It is often said that python comes with the _batteries included_, which means it comes with almost everything you need, bundled up in seperate _modules_. But not everything is loaded into memory automatically. You need to import the modules you need. Try running the following to import the antigravity module. Just hit `CTRL-ENTER` in the cell to execute the code"
   ]
  },
  {
   "cell_type": "code",
   "execution_count": 1,
   "metadata": {},
   "outputs": [],
   "source": [
    "import antigravity"
   ]
  },
  {
   "cell_type": "markdown",
   "metadata": {},
   "source": [
    "You will find that python is full of nerdy humour like this. By the way, python is named after Monty Python's Flying Circus, *not* the reptile. Let's go ahead and import some useful modules you **will** need. Use this next command cell to import the modules named ``os``, ``sys``, and ``numpy``. You can import them one-by-one or all at once, separated by commas."
   ]
  },
  {
   "cell_type": "code",
   "execution_count": 2,
   "metadata": {},
   "outputs": [],
   "source": [
    "# Use this command box to run your own commands.\n",
    "import os, sys, numpy\n",
    "# By the way, Python ignores anything after a hash (#) symbol, so good for comments"
   ]
  },
  {
   "cell_type": "markdown",
   "metadata": {},
   "source": [
    "The `os` module gives you functions relating to the operating system, `sys` gives you information on the python interpreter and your script, and `numpy` is the mathematical powerhorse of python, allowing you to manipulate arrays of numbers.\n",
    "\n",
    "Once you import a module, all the functions and data for that module live in its _namespace_. So if I wanted to use the `getcwd` function from the `os` module, I would have to refer to it as ``os.getcwd``. Try running `getcwd` all by itself; you'll get an error. Then do it the correct way:"
   ]
  },
  {
   "cell_type": "code",
   "execution_count": 3,
   "metadata": {
    "scrolled": true
   },
   "outputs": [],
   "source": [
    "# wrong way:\n",
    "# getcwd()\n",
    "# correct way:\n",
    "# os.getcwd()"
   ]
  },
  {
   "cell_type": "markdown",
   "metadata": {},
   "source": [
    "As you can probably guess, `os.getcwd` gets the current working directory. Try some commands for yourself. The ``numpy`` module has many mathematical functions. Try computing the square root (``sqrt``) of 2. You can also try computing $\\sin(\\pi)$ (numpy has a built-in value ``numpy.pi``) and even $e^{i\\pi}$ (python uses the engineering convention of ``1j`` as $\\sqrt{-1}$)."
   ]
  },
  {
   "cell_type": "code",
   "execution_count": 4,
   "metadata": {},
   "outputs": [
    {
     "name": "stdout",
     "output_type": "stream",
     "text": [
      "1.4142135623730951\n",
      "1.2246467991473532e-16\n"
     ]
    }
   ],
   "source": [
    "print(numpy.sqrt(2))\n",
    "print(numpy.sin(numpy.pi))"
   ]
  },
  {
   "cell_type": "markdown",
   "metadata": {},
   "source": [
    "There can also be namespaces inside namespaces. For example, to test if a file exists, you would want to use the `isfile()` function within the `path` module, which is itself in the `os` module. Give it a try:"
   ]
  },
  {
   "cell_type": "code",
   "execution_count": 5,
   "metadata": {},
   "outputs": [
    {
     "name": "stdout",
     "output_type": "stream",
     "text": [
      "Help on function isfile in module genericpath:\n",
      "\n",
      "isfile(path)\n",
      "    Test whether a path is a regular file\n",
      "\n",
      "False\n",
      "False\n"
     ]
    }
   ],
   "source": [
    "help(os.path.isfile)\n",
    "# readme file\n",
    "print(os.path.isfile('./data/im3433'))\n",
    "# current directory\n",
    "print(os.path.isfile('./'))"
   ]
  },
  {
   "cell_type": "markdown",
   "metadata": {},
   "source": [
    "Here is a non-comprehensive list of modules you may find useful. Documentation for all of them can be found with a quick google search.\n",
    "\n",
    "- `os`, `sys`: As mentioned above, these give you access to the operating system, files, and environment.\n",
    "- `numpy`: Gives you arrays (vectors, matrices) and the ability to do math on them.\n",
    "- `scipy`: Think of this as \"Numerical Recipes for Python\". Root-finding, fitting functions, integration, special                mathematical functions, etc.\n",
    "- `pandas`: Primarily used for reading/writing data tables. Useful for [data wrangling](https://en.wikipedia.org/wiki/Data_wrangling).\n",
    "- `astropy`: Astronomy-related functions, including FITS image reading, astrometry, and cosmological calculations.\n",
    "\n",
    "## Getting Help\n",
    "\n",
    "Almost everything in python has documentation. Just use the `help()` function on anything in python to get information. Try running `help()` on a function you used previously. Try as many others as you like."
   ]
  },
  {
   "cell_type": "code",
   "execution_count": 6,
   "metadata": {
    "scrolled": true
   },
   "outputs": [],
   "source": [
    "import pandas\n",
    "#help(pandas)"
   ]
  },
  {
   "cell_type": "markdown",
   "metadata": {
    "collapsed": true
   },
   "source": [
    "## Variables and Types\n",
    "\n",
    "A variable is like a box that you put stuff (values) in for later use. In Python, there are lots of different ``types`` of variables corresponding to what you put in. Unlike other languages, you don't have to tell ``python`` what type each variable is:  ``python`` figures it out on its own. To put the value 1 into a box called x, just use the equals sign, like you would when solving a math problem."
   ]
  },
  {
   "cell_type": "code",
   "execution_count": 7,
   "metadata": {},
   "outputs": [],
   "source": [
    "x=1"
   ]
  },
  {
   "cell_type": "markdown",
   "metadata": {},
   "source": [
    "Now you can later use this value. Try printing out `x` using the ``print()`` function. You can also modify the variable. Try adding or subtracting from x and print it out its value again."
   ]
  },
  {
   "cell_type": "code",
   "execution_count": 8,
   "metadata": {
    "scrolled": false
   },
   "outputs": [
    {
     "name": "stdout",
     "output_type": "stream",
     "text": [
      "1\n",
      "2\n"
     ]
    }
   ],
   "source": [
    "print(x)\n",
    "x=x+1\n",
    "print(x)"
   ]
  },
  {
   "cell_type": "markdown",
   "metadata": {},
   "source": [
    "But be careful about the type. Try assigning the value of 1 to ``y``. Now divide it by two and print out the result. "
   ]
  },
  {
   "cell_type": "code",
   "execution_count": 9,
   "metadata": {},
   "outputs": [
    {
     "name": "stdout",
     "output_type": "stream",
     "text": [
      "0.5\n"
     ]
    }
   ],
   "source": [
    "y = 1\n",
    "y = y/2\n",
    "print(y)"
   ]
  },
  {
   "cell_type": "markdown",
   "metadata": {},
   "source": [
    "Here is where we get to the first major difference bewteen `python 2` and `python 3`. In `python 2`, an integer divided by another integer is kept as an integer (this is simlar behavior to most other programming languages), so 1 divided by 2 is 0. In `python 3.x`, division always produces a real number (called a `float`), so 1 divided 2 is 0.5. If you want integer division in `python 3`, use `//` instead. This kind of division also works in `python 2`, so it's worth getting used to it.\n",
    "\n",
    "Repeat what you did before, but this time start by assigning the value of 1.0 to y first. Also try using integer division on a float variable."
   ]
  },
  {
   "cell_type": "code",
   "execution_count": 10,
   "metadata": {},
   "outputs": [
    {
     "name": "stdout",
     "output_type": "stream",
     "text": [
      "0.5\n",
      "0.0\n"
     ]
    }
   ],
   "source": [
    "y1 = 1.0\n",
    "y1 = y1/2\n",
    "print(y1)\n",
    "y2 = y1//2\n",
    "print(y2)"
   ]
  },
  {
   "cell_type": "markdown",
   "metadata": {},
   "source": [
    "Remeber that variables are simply containers (or labels if you prefer). They don't have a fixed type. Try using the `type()` function on `y`.\n",
    "\n",
    "There are other types of variables. The most commonly used are strings, lists, and arrays. But literally **anything** can be assigned to a variable. You can even assign the ``numpy`` module to the variable ``np`` if you don't like typing `numpy` all the time. Try it out."
   ]
  },
  {
   "cell_type": "code",
   "execution_count": 11,
   "metadata": {},
   "outputs": [
    {
     "name": "stdout",
     "output_type": "stream",
     "text": [
      "<class 'float'> <class 'float'> <class 'float'>\n"
     ]
    }
   ],
   "source": [
    "print(type(y),type(y1),type(y2))"
   ]
  },
  {
   "cell_type": "markdown",
   "metadata": {},
   "source": [
    "Now you can use ``np.sqrt()`` rather than ``numpy.sqrt()``. Most python programmers do this with commonly-used modules. In fact, we usually just use the special form:  ``import numpy as np``."
   ]
  },
  {
   "cell_type": "code",
   "execution_count": 12,
   "metadata": {},
   "outputs": [
    {
     "data": {
      "text/plain": [
       "1.7320508075688772"
      ]
     },
     "execution_count": 12,
     "metadata": {},
     "output_type": "execute_result"
    }
   ],
   "source": [
    "import numpy as np\n",
    "np.sqrt(3)"
   ]
  },
  {
   "cell_type": "markdown",
   "metadata": {},
   "source": [
    "# Strings\n",
    "Strings are collections of alpha-numeric characters and are the primary way data are represented outside your code. So you will find yourself manipulating strings in Python **ALL THE TIME**. You might need to convert strings from a text file into python data ojects to work with or you might need to do the opposite and generate an output file with final results that can be read by humans. Below are the most common things we need.\n",
    "\n",
    "Strings are enclosed in matching singe (`'`) or double (`\"`), or even triple (`'''`) quotes. Python doesn't distinguish as long as you match them consistently. Triple-quoted strings can span many lines and are useful for literal text or code documentation."
   ]
  },
  {
   "cell_type": "code",
   "execution_count": 13,
   "metadata": {},
   "outputs": [
    {
     "name": "stdout",
     "output_type": "stream",
     "text": [
      "this is a string\n",
      "this is a very long string\n",
      "spanning multiple lines\n",
      "\n",
      "hopefully it works\n"
     ]
    }
   ],
   "source": [
    "# Strings are enclosed by single or double quotes\n",
    "s='this is a string'\n",
    "print (s)\n",
    "longstring = '''this is a very long string\n",
    "spanning multiple lines\n",
    "\n",
    "hopefully it works'''\n",
    "print(longstring)"
   ]
  },
  {
   "cell_type": "markdown",
   "metadata": {},
   "source": [
    "We can use the `len()` function to determine the length of the string. Try this out below."
   ]
  },
  {
   "cell_type": "code",
   "execution_count": 14,
   "metadata": {},
   "outputs": [
    {
     "name": "stdout",
     "output_type": "stream",
     "text": [
      "16\n",
      "70\n"
     ]
    }
   ],
   "source": [
    "print(len(s))\n",
    "print(len(longstring)) #line break is of length 1"
   ]
  },
  {
   "cell_type": "markdown",
   "metadata": {},
   "source": [
    "Strings are very similar to lists in `python` (we'll see that below). Each alpha-numeric character is an element in the string, and you can refer to individual elements (characters) using an index enclosed in square brackets (`[]`). You can also specify a range of indices by separating them with a colon (`:`). `Python` indexes from 0 (not 1), so the first element is index `[0]`, the second `[1]` and so on. Negative indices count from the end of the string. Try printing out the 2nd character of your string `s`, then the whole string except for the first and last characters."
   ]
  },
  {
   "cell_type": "code",
   "execution_count": 15,
   "metadata": {},
   "outputs": [
    {
     "name": "stdout",
     "output_type": "stream",
     "text": [
      "h\n",
      "his is a strin\n"
     ]
    }
   ],
   "source": [
    "print(s[1])\n",
    "print(s[1:-1])"
   ]
  },
  {
   "cell_type": "markdown",
   "metadata": {},
   "source": [
    "Specifying a range of indices (as well as more complicated indexing we'll see later) is called *slicing*. There is also a `string` module that contains many functions for manipulating strings.\n",
    "\n",
    "## Formatting strings\n",
    "Sometimes you'll need your integers and floats to be converted into strings and written out into a table with specific formats (e.g., number of significant figures). This involves a syntax that's almost a separate language itself (though if you've used `C` or `C++` it will be very familiar). Here is a good reference: https://pyformat.info/\n",
    "\n",
    "We'll cover the most important. First, if you just print out a regular floating point number, you get some arbitrary number of significant figures. The same is true if you just try to convert the float to a string using `str()`, which takes any type of variable and tries to turn it into a string. Try printing the string value of `np.pi`."
   ]
  },
  {
   "cell_type": "code",
   "execution_count": 16,
   "metadata": {},
   "outputs": [
    {
     "name": "stdout",
     "output_type": "stream",
     "text": [
      "3.141592653589793 <class 'float'> 3.141592653589793\n"
     ]
    }
   ],
   "source": [
    "print(np.pi, type(np.pi), str(np.pi))"
   ]
  },
  {
   "cell_type": "markdown",
   "metadata": {},
   "source": [
    "If you only want two significant figures, or you want the whole number of span 15 spaces (to make nicely lined-up colums for a table), you need to use a format string. A format string is just like a regular string, but has special place-holders for your numbers. These are enclosed in curly brackets (`{}`) and have special codes to specify how to format the variable. Without any other information, a simple `{}` will be replaced with whatever `str()` produces for the variable. For more control over numerical values, specify `:[width].[prec]f` for floats and `:[width]d` for integers. Replace `[width]` and `[prec]` with the total width you want your number to occupy  and the number of digits after the decimal, respectively. Here's an example:"
   ]
  },
  {
   "cell_type": "code",
   "execution_count": 17,
   "metadata": {},
   "outputs": [
    {
     "name": "stdout",
     "output_type": "stream",
     "text": [
      "This is a float with two decimals:  {:.2f}\n"
     ]
    }
   ],
   "source": [
    "fmt = \"This is a float with two decimals:  {:.2f}\"\n",
    "print (fmt)"
   ]
  },
  {
   "cell_type": "markdown",
   "metadata": {},
   "source": [
    "By itself, the format string didn't do much. In order to inject the number, we use its `.format()` function."
   ]
  },
  {
   "cell_type": "code",
   "execution_count": 18,
   "metadata": {},
   "outputs": [
    {
     "name": "stdout",
     "output_type": "stream",
     "text": [
      "This is a float with two decimals:  2.00\n"
     ]
    }
   ],
   "source": [
    "# two decimal places\n",
    "print(fmt.format(x))"
   ]
  },
  {
   "cell_type": "markdown",
   "metadata": {},
   "source": [
    "You may want to make a format string with more than one number or string. You can do this by specifying multiple format codes and inject an equal number of arguments to the `.format()` function."
   ]
  },
  {
   "cell_type": "code",
   "execution_count": 19,
   "metadata": {},
   "outputs": [
    {
     "name": "stdout",
     "output_type": "stream",
     "text": [
      "Here is a float: '2.00', and another '  3.1416', an integer 1000, and a string look ma, no quotes!\n"
     ]
    }
   ],
   "source": [
    "fmt = \"Here is a float: '{:.2f}', and another '{:8.4f}', an integer {:d}, and a string {}\"\n",
    "print (fmt.format(x, np.pi, 1000, 'look ma, no quotes!'))"
   ]
  },
  {
   "cell_type": "markdown",
   "metadata": {},
   "source": [
    "We decided to show the *new style* of string formatting, as it is the `python 3` way of the future and is more powerful than the *old style*. Both styles are suppored in both versions of `python` and the reference above has plenty of examples of both."
   ]
  },
  {
   "cell_type": "markdown",
   "metadata": {},
   "source": [
    "# Lists and numpy arrays\n",
    "Lists contain a sequence of objects, typically, a sequence of numbers.  The are enclosed by square brackets, (e.g., ``[]``), and each item separated by a comma. Here are some examples."
   ]
  },
  {
   "cell_type": "code",
   "execution_count": 20,
   "metadata": {},
   "outputs": [
    {
     "name": "stdout",
     "output_type": "stream",
     "text": [
      "[1.0, 2.0, 7.0, 2500.0]\n"
     ]
    }
   ],
   "source": [
    "# A list of floats\n",
    "x1=[1.,2.,7.,2500.]\n",
    "print(x1)"
   ]
  },
  {
   "cell_type": "code",
   "execution_count": 21,
   "metadata": {},
   "outputs": [
    {
     "name": "stdout",
     "output_type": "stream",
     "text": [
      "['a', 'tale', 'of', 'two']\n"
     ]
    }
   ],
   "source": [
    "# try making a list of strings. Use indexing to print out single elements and slices.\n",
    "strs1=['a','tale','of','two','cities']\n",
    "print(strs1[:-1])"
   ]
  },
  {
   "cell_type": "markdown",
   "metadata": {},
   "source": [
    "Lists can also contain a mixture of different types (even lists). Basically, anything can be an element of a list. Try making a list of strings, floats, and the list `x1` above. Print it out to see what it looks like. Can you guess how to refer to an element of a list that's in another list?"
   ]
  },
  {
   "cell_type": "code",
   "execution_count": 22,
   "metadata": {},
   "outputs": [
    {
     "name": "stdout",
     "output_type": "stream",
     "text": [
      "[['a', 'tale', 'of', 'two', 'cities'], 'hey', 3.141592653589793, 7.0]\n",
      "tale\n"
     ]
    }
   ],
   "source": [
    "mixed=[strs1,'hey', np.pi, x1[2]]\n",
    "print(mixed)\n",
    "print(mixed[0][1])"
   ]
  },
  {
   "cell_type": "code",
   "execution_count": 23,
   "metadata": {},
   "outputs": [
    {
     "name": "stdout",
     "output_type": "stream",
     "text": [
      "This is a book: a tale of two cities, and this is a greeting: hey.\n",
      "Here we have a float occupying 15 spaces with 7 s.f.:\n",
      "      3.1415927.\n",
      "And we have another float occupying 15 spances with whatever s.f. it came with:\n",
      "            7.0.\n"
     ]
    }
   ],
   "source": [
    "#testing formatting strings\n",
    "mixedform = '''This is a book: {} {} {} {} {}, and this is a greeting: {}.\n",
    "Here we have a float occupying 15 spaces with 7 s.f.:\n",
    "{:15.7f}.\n",
    "And we have another float occupying 15 spances with whatever s.f. it came with:\n",
    "{:15}.'''\n",
    "print(mixedform.format(mixed[0][0],mixed[0][1],mixed[0][2],\n",
    "                       mixed[0][3],mixed[0][4],mixed[1],mixed[2],mixed[3]))"
   ]
  },
  {
   "cell_type": "markdown",
   "metadata": {},
   "source": [
    "Numpy arrays allow for more functionality than lists.  While they may also contain a mix of object types, you will primarily be working with numpy arrays that are comprised of numbers: either integers or floats.  For example, you will at some point read in a table of data into a numpy array and do things to it, like add, multiply, etc.\n",
    "\n",
    "Above, we imported the `numpy` module as `np`.  We will use this to create arrays."
   ]
  },
  {
   "cell_type": "code",
   "execution_count": 24,
   "metadata": {},
   "outputs": [
    {
     "name": "stdout",
     "output_type": "stream",
     "text": [
      "[1. 2. 3. 4.]\n"
     ]
    }
   ],
   "source": [
    "# give np.array(<list>)\n",
    "x=np.array([1.,2.,3.,4.])\n",
    "print(x)"
   ]
  },
  {
   "cell_type": "markdown",
   "metadata": {},
   "source": [
    "Try adding an integer to `x` and print it out. Then try other mathematical functions from the `numpy` module on it."
   ]
  },
  {
   "cell_type": "code",
   "execution_count": 25,
   "metadata": {},
   "outputs": [
    {
     "name": "stdout",
     "output_type": "stream",
     "text": [
      "[2. 3. 4. 5.]\n",
      "[[1. 2.]\n",
      " [3. 4.]]\n",
      "[1. 2. 3. 4.]\n"
     ]
    }
   ],
   "source": [
    "y=x+1\n",
    "print(y)\n",
    "z=x.reshape(2,2)\n",
    "print(z)\n",
    "print(x)"
   ]
  },
  {
   "cell_type": "markdown",
   "metadata": {},
   "source": [
    "Here is where the real power of numpy arrays comes into play.  We can use `numpy` to carry out all kinds of mathematical tasks that in other programming languages (like ``C``, ``FORTRAN``, etc) would require some kind of loop. Here are some of the most common tasks we'll use. By using `numpy` functions on arrays of numbers, we speed up the code a lot. This is commonly referred to as *vectorizing* your code."
   ]
  },
  {
   "cell_type": "code",
   "execution_count": 26,
   "metadata": {},
   "outputs": [],
   "source": [
    "# usually, vectorized functions are more efficient in Python than for loops"
   ]
  },
  {
   "cell_type": "markdown",
   "metadata": {},
   "source": [
    "### Array creation\n",
    "\n",
    "There are many functions in ``numpy`` that allow you to make arrays from scratch."
   ]
  },
  {
   "cell_type": "markdown",
   "metadata": {},
   "source": [
    "We can create an array of zeros:"
   ]
  },
  {
   "cell_type": "code",
   "execution_count": 27,
   "metadata": {},
   "outputs": [
    {
     "name": "stdout",
     "output_type": "stream",
     "text": [
      "[0. 0. 0. 0. 0.]\n"
     ]
    }
   ],
   "source": [
    "x0=np.zeros(5)\n",
    "print(x0)"
   ]
  },
  {
   "cell_type": "markdown",
   "metadata": {},
   "source": [
    "Take a guess at how to create a 5-element array of ones."
   ]
  },
  {
   "cell_type": "code",
   "execution_count": 28,
   "metadata": {},
   "outputs": [
    {
     "name": "stdout",
     "output_type": "stream",
     "text": [
      "[1. 1. 1. 1. 1.]\n"
     ]
    }
   ],
   "source": [
    "x1=np.ones(5)\n",
    "print(x1)"
   ]
  },
  {
   "cell_type": "markdown",
   "metadata": {},
   "source": [
    "Now suppose you want all the elements to be equal to `np.pi`. How could you do that as a one-liner. Hint:  vectorize."
   ]
  },
  {
   "cell_type": "code",
   "execution_count": 29,
   "metadata": {},
   "outputs": [
    {
     "name": "stdout",
     "output_type": "stream",
     "text": [
      "[3.14159265 3.14159265 3.14159265 3.14159265 3.14159265]\n"
     ]
    }
   ],
   "source": [
    "xpi=np.ones(5)*np.pi\n",
    "print(xpi)"
   ]
  },
  {
   "cell_type": "markdown",
   "metadata": {},
   "source": [
    "We can create a sequence of numbers using `np.arange(start,stop,step)`, where you specify a number to start (inclusive), when to stop (non-inclusive), and what step size to have between each element. Make an array called `x1` using `arange` that goes from 0 to 4 inclusive."
   ]
  },
  {
   "cell_type": "code",
   "execution_count": 30,
   "metadata": {},
   "outputs": [
    {
     "name": "stdout",
     "output_type": "stream",
     "text": [
      "[0 1 2 3 4]\n"
     ]
    }
   ],
   "source": [
    "x1=np.arange(0,5,1) #start(inclusive), stop(exclusive), or simply [start,stop)\n",
    "print(x1)"
   ]
  },
  {
   "cell_type": "markdown",
   "metadata": {},
   "source": [
    "Now make an array called `x2` that goes from 0 to 10 in steps of 2."
   ]
  },
  {
   "cell_type": "code",
   "execution_count": 31,
   "metadata": {},
   "outputs": [
    {
     "name": "stdout",
     "output_type": "stream",
     "text": [
      "[0 2 4 6 8]\n"
     ]
    }
   ],
   "source": [
    "x2=np.arange(0,10,2)\n",
    "print(x2)"
   ]
  },
  {
   "cell_type": "markdown",
   "metadata": {},
   "source": [
    "Another handy function is `np.linspace(start,stop,N)`, which gives you a specified number `N` of elements equally spaced between `start` and `stop`. The `stop` value in this case is inclusive (will be part of the sequence). Try making an array called `x3` that goes from 0 to 8 and has 5 elements."
   ]
  },
  {
   "cell_type": "code",
   "execution_count": 32,
   "metadata": {},
   "outputs": [
    {
     "name": "stdout",
     "output_type": "stream",
     "text": [
      "[0. 2. 4. 6. 8.]\n",
      "[0.   1.75 3.5  5.25 7.  ]\n"
     ]
    }
   ],
   "source": [
    "x3 = np.linspace(0,8,5)\n",
    "print(x3)\n",
    "x33 = np.linspace(0,7,5)\n",
    "print(x33) #[start,stop]"
   ]
  },
  {
   "cell_type": "markdown",
   "metadata": {},
   "source": [
    "One can also create N-dimensional numpy arrays.  For example, images that you read into Python will typically be stored into 2D numpy arrays."
   ]
  },
  {
   "cell_type": "code",
   "execution_count": 33,
   "metadata": {},
   "outputs": [
    {
     "name": "stdout",
     "output_type": "stream",
     "text": [
      "[[1. 1.]\n",
      " [1. 1.]\n",
      " [1. 1.]\n",
      " [1. 1.]]\n",
      "(4, 2)\n",
      "[[[ 1  2  3  4]\n",
      "  [ 5  6  7  8]\n",
      "  [ 9 10 11 12]]\n",
      "\n",
      " [[13 14 15 16]\n",
      "  [17 18 19 20]\n",
      "  [21 22 23 24]]]\n",
      "(2, 3, 4)\n"
     ]
    }
   ],
   "source": [
    "x=np.ones((4,2))\n",
    "print(x)\n",
    "print(x.shape)\n",
    "\n",
    "x3D = (np.arange(2*3*4)+1).reshape((2,3,4)) #prints out one layer after another\n",
    "print(x3D)\n",
    "print(x3D.shape)"
   ]
  },
  {
   "cell_type": "markdown",
   "metadata": {},
   "source": [
    "### Array Math\n",
    "\n",
    "Just as with spreadsheets, you can do math on entire arrays using operators (``+``,``-``,``*``, ``/``, and ``**``) and ``numpy`` functions.\n",
    "\n",
    "Try doing some math on your arrays `x1`, `x2`, and `x3`."
   ]
  },
  {
   "cell_type": "code",
   "execution_count": 34,
   "metadata": {},
   "outputs": [
    {
     "name": "stdout",
     "output_type": "stream",
     "text": [
      "[ 0.5  3.5 10.5 21.5 36.5]\n"
     ]
    }
   ],
   "source": [
    "x4=0.5+x1+x2*x3/2.\n",
    "print(x4)"
   ]
  },
  {
   "cell_type": "markdown",
   "metadata": {},
   "source": [
    "What happens if you try to add `x1` to the matrix `x` you created above. Give it a try:"
   ]
  },
  {
   "cell_type": "code",
   "execution_count": 35,
   "metadata": {},
   "outputs": [
    {
     "name": "stdout",
     "output_type": "stream",
     "text": [
      "[0 1 2 3 4]\n",
      "[[1. 1.]\n",
      " [1. 1.]\n",
      " [1. 1.]\n",
      " [1. 1.]]\n"
     ]
    }
   ],
   "source": [
    "#x1+x will not work because the shapes don't match\n",
    "print(x1)\n",
    "print(x)"
   ]
  },
  {
   "cell_type": "markdown",
   "metadata": {},
   "source": [
    "We also have access to most mathematical functions you'll need. Try raising an array to 3rd power using `np.power`. Take the base-10 log of an array and make sure it gives you what you expect.  A shorthand for raising to a power is `**`, for example, `2**3=8`."
   ]
  },
  {
   "cell_type": "code",
   "execution_count": 36,
   "metadata": {},
   "outputs": [
    {
     "name": "stdout",
     "output_type": "stream",
     "text": [
      "[31.00627668 31.00627668 31.00627668 31.00627668 31.00627668]\n",
      "31.006276680299816\n",
      "[[[0.         0.30103    0.47712125 0.60205999]\n",
      "  [0.69897    0.77815125 0.84509804 0.90308999]\n",
      "  [0.95424251 1.         1.04139269 1.07918125]]\n",
      "\n",
      " [[1.11394335 1.14612804 1.17609126 1.20411998]\n",
      "  [1.23044892 1.25527251 1.2787536  1.30103   ]\n",
      "  [1.32221929 1.34242268 1.36172784 1.38021124]]]\n"
     ]
    }
   ],
   "source": [
    "print(np.power(xpi,3))\n",
    "print(np.pi**3)\n",
    "print(np.log10(x3D))"
   ]
  },
  {
   "cell_type": "markdown",
   "metadata": {},
   "source": [
    "### Matrix Math\n",
    "\n",
    "``numpy`` can treat 2D arrays as matrices and leverage special compiled libraries so that you can do linear algebra routines easily (and very fast). Here, we construct a rotation matrix and use ``dot`` do do the dot-product. Try changing theta to different angles (in radians!)."
   ]
  },
  {
   "cell_type": "code",
   "execution_count": 37,
   "metadata": {},
   "outputs": [
    {
     "name": "stdout",
     "output_type": "stream",
     "text": [
      "[[ 0.70710678 -0.70710678]\n",
      " [ 0.70710678  0.70710678]]\n",
      "[1. 1.]\n",
      "[1.11022302e-16 1.41421356e+00]\n"
     ]
    }
   ],
   "source": [
    "# CCW rotation by 180 degrees\n",
    "theta=np.pi/4\n",
    "# Rotation matrix\n",
    "x=np.array([[np.cos(theta),-np.sin(theta)],\n",
    "            [np.sin(theta),np.cos(theta)]])\n",
    "print(x)\n",
    "\n",
    "# Lets rotate (1,1) about the origin\n",
    "y=np.array([1.,1.])\n",
    "z=np.dot(x,y)\n",
    "\n",
    "print(y)\n",
    "print(z)"
   ]
  },
  {
   "cell_type": "code",
   "execution_count": 38,
   "metadata": {},
   "outputs": [
    {
     "name": "stdout",
     "output_type": "stream",
     "text": [
      "[[ 6.123234e-17 -1.000000e+00]\n",
      " [ 1.000000e+00  6.123234e-17]]\n",
      "[[ 6.123234e-17 -1.000000e+00]\n",
      " [ 1.000000e+00  6.123234e-17]]\n"
     ]
    }
   ],
   "source": [
    "#test: can we do multiple theta values at the same time?\n",
    "# more details on how to build functions in sections below\n",
    "\n",
    "def genrotmatrix(anglelist):\n",
    "    toreturn = []\n",
    "    for angle in anglelist:\n",
    "        l = np.array([[np.cos(angle),-np.sin(angle)],\n",
    "                            [np.sin(angle),np.cos(angle)]])\n",
    "        toreturn.append(l)\n",
    "    return toreturn\n",
    "\n",
    "thetalist = [np.pi/4, np.pi/2, np.pi]\n",
    "xlist = genrotmatrix(thetalist)\n",
    "\n",
    "theta=np.pi/2\n",
    "# Rotation matrix\n",
    "x=np.array([[np.cos(theta),-np.sin(theta)],\n",
    "            [np.sin(theta),np.cos(theta)]])\n",
    "print(x)\n",
    "print(xlist[1])"
   ]
  },
  {
   "cell_type": "markdown",
   "metadata": {},
   "source": [
    "The other common matrix tasks can also be done with either ``numpy`` functions, ``numpy.linalg``, or member functions of the object itself"
   ]
  },
  {
   "cell_type": "code",
   "execution_count": 39,
   "metadata": {},
   "outputs": [
    {
     "name": "stdout",
     "output_type": "stream",
     "text": [
      "[[ 6.123234e-17  1.000000e+00]\n",
      " [-1.000000e+00  6.123234e-17]]\n",
      "[[1. 0.]\n",
      " [0. 1.]]\n"
     ]
    }
   ],
   "source": [
    "# Taking the transpose\n",
    "x_t = x.T\n",
    "print(x_t)\n",
    "\n",
    "# Computing the inverse\n",
    "x_i = np.linalg.inv(x)\n",
    "\n",
    "# Matrix Multiplication\n",
    "I = np.dot(x_i,x)\n",
    "print (I)"
   ]
  },
  {
   "cell_type": "markdown",
   "metadata": {},
   "source": [
    "### Array Slicing\n",
    "\n",
    "Often, you need to access elements or sub-arrays within your array. This is referred to as *slicing*. We can select individual elements in an array using indices just as we did for strings (note that 0 is the first element and negative indices count backwards from the end). The most general slicing looks like `[start:stop:step]`. Below, we create an array. Try to print out the following using slices:\n",
    "   * the first element\n",
    "   * the last element (there's two ways to do this)\n",
    "   * a sub-array from 3rd element to the end\n",
    "   * a sub-array with the last element stripped\n",
    "   * a sub-array with a single element (the last)\n",
    "   * a sub-aray with every second element\n",
    "   * a sub-array with all elements in reverse order"
   ]
  },
  {
   "cell_type": "code",
   "execution_count": 40,
   "metadata": {},
   "outputs": [
    {
     "name": "stdout",
     "output_type": "stream",
     "text": [
      "[0 1 2 3 4]\n",
      "0\n",
      "4 4\n",
      "[2 3 4]\n",
      "[0 1 2 3]\n",
      "[3]\n",
      "[1 3]\n",
      "[4 3 2 1 0]\n"
     ]
    }
   ],
   "source": [
    "x=np.arange(5)\n",
    "print(x)\n",
    "#start of tasks\n",
    "print(x[0])\n",
    "print(x[4],x[-1])\n",
    "print(x[2:])\n",
    "print(x[:-1])\n",
    "print(x[-2:-1])\n",
    "print(x[1::2])\n",
    "print(x[::-1])"
   ]
  },
  {
   "cell_type": "markdown",
   "metadata": {},
   "source": [
    "We can also \"slice\" N-dimensional arrays. Note that we have used `reshape` to transform a 1D array into a 2D array with the same total number of elements. This is another handy way to create N-dimensional arrays."
   ]
  },
  {
   "cell_type": "code",
   "execution_count": 41,
   "metadata": {},
   "outputs": [
    {
     "name": "stdout",
     "output_type": "stream",
     "text": [
      "[0 1 2 3 4 5 6 7]\n",
      "[[0 1]\n",
      " [2 3]\n",
      " [4 5]\n",
      " [6 7]]\n",
      "[0 1]\n",
      "[0 2 4 6]\n",
      "[2 4]\n",
      "[[2 3]\n",
      " [4 5]]\n",
      "[[2 4]\n",
      " [3 5]]\n"
     ]
    }
   ],
   "source": [
    "x=np.arange(8)\n",
    "print(x)\n",
    "x=x.reshape((4,2))\n",
    "print(x)\n",
    "\n",
    "print(x[0,:])\n",
    "print(x[:,0])  # x[row,col]\n",
    "# grab 2&4\n",
    "print(x[1:-1,0])\n",
    "# grab 2345\n",
    "print(x[1:-1,:])\n",
    "print(x[1:-1,:].T)  # transpose"
   ]
  },
  {
   "cell_type": "markdown",
   "metadata": {},
   "source": [
    "The reverse of `reshape` is `ravel`, which flattens a multi-dimensional array into a 1D array.  Try this on `x`."
   ]
  },
  {
   "cell_type": "code",
   "execution_count": 42,
   "metadata": {},
   "outputs": [
    {
     "name": "stdout",
     "output_type": "stream",
     "text": [
      "[[0 1]\n",
      " [2 3]\n",
      " [4 5]\n",
      " [6 7]]\n",
      "[0 1 2 3 4 5 6 7]\n"
     ]
    }
   ],
   "source": [
    "print(x)\n",
    "xflat = x.ravel()\n",
    "print(xflat)"
   ]
  },
  {
   "cell_type": "markdown",
   "metadata": {},
   "source": [
    "# Control blocks"
   ]
  },
  {
   "cell_type": "markdown",
   "metadata": {},
   "source": [
    "So far, we've been running individual sets of commands and looking at their results immediately. Later, we will write a complete *program*, which is really just bundling up instructions into a recipe for solving a given task. But as the tasks we want to perform become more complicated, we need *control blocks*. These allow us to:\n",
    "\n",
    "* Repeat tasks again and again (loops)\n",
    "* Perform tasks only if certain conditions are met (if-else blocks)\n",
    "* Group instructions into a single logical task (user-defined functions)\n",
    "\n",
    "`python` is rather unique in that it uses indenting to indicate the beginning and end of a logical block. This actually forces you to write readable code, which is a really good thing!\n",
    "\n",
    "### For loops\n",
    "\n",
    "`for` loops are useful for repeating a series of operations a given number of times. In `python`, you loop over elements of a list or array. So if you want to loop over a sequence of integers (say, the indices of an array), then you would use the `range()` function to generate the list of integers. You might also use the `len()` function if you need the length of the array."
   ]
  },
  {
   "cell_type": "code",
   "execution_count": 43,
   "metadata": {},
   "outputs": [
    {
     "name": "stdout",
     "output_type": "stream",
     "text": [
      "range(0, 5)\n",
      "0\n",
      "1\n",
      "2\n",
      "3\n",
      "4\n"
     ]
    }
   ],
   "source": [
    "# range(n) creates a list of n elements\n",
    "print(range(5))\n",
    "\n",
    "# We can use it to iterate over a for loop\n",
    "for ii in range(5):\n",
    "    print(ii)"
   ]
  },
  {
   "cell_type": "markdown",
   "metadata": {},
   "source": [
    "** Notice that after the line containing the for statement, the subsequent lines are indented to indicate that they are all part of the same block. Every line that shares the same indenting will be repeated 5 times.**"
   ]
  },
  {
   "cell_type": "markdown",
   "metadata": {},
   "source": [
    "You can use a `for` loop to build up a list of elements by appending to an existing list (using its `append()` member function). For example, to create the first N elements of the Fibonacci sequence:"
   ]
  },
  {
   "cell_type": "code",
   "execution_count": 44,
   "metadata": {},
   "outputs": [
    {
     "name": "stdout",
     "output_type": "stream",
     "text": [
      "33644764876431783266621612005107543310302148460680063906564769974680081442166662368155595513633734025582065332680836159373734790483865268263040892463056431887354544369559827491606602099884183933864652731300088830269235673613135117579297437854413752130520504347701602264758318906527890855154366159582987279682987510631200575428783453215515103870818298969791613127856265033195487140214287532698187962046936097879900350962302291026368131493195275630227837628441540360584402572114334961180023091208287046088923962328835461505776583271252546093591128203925285393434620904245248929403901706233888991085841065183173360437470737908552631764325733993712871937587746897479926305837065742830161637408969178426378624212835258112820516370298089332099905707920064367426202389783111470054074998459250360633560933883831923386783056136435351892133279732908133732642652633989763922723407882928177953580570993691049175470808931841056146322338217465637321248226383092103297701648054726243842374862411453093812206564914032751086643394517512161526545361333111314042436854805106765843493523836959653428071768775328348234345557366719731392746273629108210679280784718035329131176778924659089938635459327894523777674406192240337638674004021330343297496902028328145933418826817683893072003634795623117103101291953169794607632737589253530772552375943788434504067715555779056450443016640119462580972216729758615026968443146952034614932291105970676243268515992834709891284706740862008587135016260312071903172086094081298321581077282076353186624611278245537208532365305775956430072517744315051539600905168603220349163222640885248852433158051534849622434848299380905070483482449327453732624567755879089187190803662058009594743150052402532709746995318770724376825907419939632265984147498193609285223945039707165443156421328157688908058783183404917434556270520223564846495196112460268313970975069382648706613264507665074611512677522748621598642530711298441182622661057163515069260029861704945425047491378115154139941550671256271197133252763631939606902895650288268608362241082050562430701794976171121233066073310059947366875\n"
     ]
    }
   ],
   "source": [
    "fib = [1,1]\n",
    "N = 10000\n",
    "for i in range(N-2):\n",
    "    fib.append(fib[-2]+fib[-1])\n",
    "print (fib[-1])"
   ]
  },
  {
   "cell_type": "markdown",
   "metadata": {},
   "source": [
    "You may notice (if N is large enough) that you get numbers that have an `L` at the end. `python` has a special type called a *long integer* which allows for abitrarily large numbers. \n",
    "\n",
    "Here is an example of what **not** to do with for loops (if you can help it). `For` loops are more computationally expensive in python than using the `numpy` functions do do the math. *Always* try to cast the problem in terms of `numpy` math and functions. It will make your code faster. Try making N in the following example larger and larger and you'll see the difference."
   ]
  },
  {
   "cell_type": "code",
   "execution_count": 45,
   "metadata": {},
   "outputs": [],
   "source": [
    "# update: https://portingguide.readthedocs.io/en/latest/numbers.html\n",
    "# In Python 3, the L suffix is not allowed."
   ]
  },
  {
   "cell_type": "code",
   "execution_count": 46,
   "metadata": {},
   "outputs": [
    {
     "name": "stdout",
     "output_type": "stream",
     "text": [
      "for loop took 0.0011551380157470703 seconds\n"
     ]
    }
   ],
   "source": [
    "# A slightly more complex example of a for loop:\n",
    "import time\n",
    "N = 100\n",
    "x=np.arange(N)\n",
    "y=np.zeros(N)\n",
    "\n",
    "t1 = time.time()   # start time\n",
    "for ii in range(x.size): \n",
    "    y[ii]=x[ii]**2\n",
    "t2 = time.time()   # end time\n",
    "    \n",
    "print (\"for loop took \"+str(t2-t1)+\" seconds\")"
   ]
  },
  {
   "cell_type": "markdown",
   "metadata": {},
   "source": [
    "Another way to implement the stopwatch is to use the iPython \"magic\" command `%time`:"
   ]
  },
  {
   "cell_type": "code",
   "execution_count": 47,
   "metadata": {},
   "outputs": [
    {
     "name": "stdout",
     "output_type": "stream",
     "text": [
      "CPU times: user 128 µs, sys: 4 µs, total: 132 µs\n",
      "Wall time: 139 µs\n"
     ]
    }
   ],
   "source": [
    "%time for ii in range(x.size): y[ii]=x[ii]**2"
   ]
  },
  {
   "cell_type": "markdown",
   "metadata": {},
   "source": [
    "Try making `N` in the above code block bigger and see how the execution time goes up. Now do the exact same thing in the next code block, but use `numpy` functions without a loop. See how the execution time improves."
   ]
  },
  {
   "cell_type": "code",
   "execution_count": 48,
   "metadata": {},
   "outputs": [
    {
     "name": "stdout",
     "output_type": "stream",
     "text": [
      "for loop took 2.09808349609375e-05 seconds\n",
      "for loop took 0.00026988983154296875 seconds\n",
      "for loop took 0.0009050369262695312 seconds\n",
      "for loop took 0.021162986755371094 seconds\n"
     ]
    }
   ],
   "source": [
    "def timer(N):\n",
    "    x=np.arange(N)\n",
    "    y=np.zeros(N)\n",
    "    t1 = time.time()   # start time\n",
    "    for ii in range(x.size): \n",
    "        y[ii]=x[ii]**2\n",
    "    t2 = time.time()   # end time\n",
    "    print (\"for loop took \"+str(t2-t1)+\" seconds\")\n",
    "\n",
    "timer(10)\n",
    "timer(100)\n",
    "timer(1000)\n",
    "timer(10000)"
   ]
  },
  {
   "cell_type": "markdown",
   "metadata": {},
   "source": [
    "### While loops\n",
    "\n",
    "Similar to a for-loop, a while-loop executes the same code block repeatedly until a condition is no longer true. These are handy if you don't know ahead of time how long a loop will take, but you know you have to stop when a condition is true (or false). As an example, we can estimate the smallest floating point number (called machine-$\\epsilon$) by continually dividing by 2 until we get zero."
   ]
  },
  {
   "cell_type": "code",
   "execution_count": 49,
   "metadata": {},
   "outputs": [
    {
     "name": "stdout",
     "output_type": "stream",
     "text": [
      "CPU times: user 435 µs, sys: 0 ns, total: 435 µs\n",
      "Wall time: 443 µs\n",
      "[1.265e-321, 6.3e-322, 3.16e-322, 1.6e-322, 8e-323, 4e-323, 2e-323, 1e-323, 5e-324, 0.0]\n"
     ]
    }
   ],
   "source": [
    "Ns = [1.]\n",
    "%time while Ns[-1] > 0: Ns.append(Ns[-1]/2)\n",
    "print(Ns[-10:])"
   ]
  },
  {
   "cell_type": "markdown",
   "metadata": {},
   "source": [
    "Beware, though, that unlike `for` loops, you can have a never-ending loop if the condition is never false. Your computer is happy to keep grinding away forever."
   ]
  },
  {
   "cell_type": "markdown",
   "metadata": {},
   "source": [
    "### If blocks\n",
    "\n",
    "`if` statements act as a way to carry out a task only if a certain _condition_ is met. As with the `for` loops above, everything that is indented after the `if` statement is part of the block of code that is executed if the condition is met. Likewise for the `else` block."
   ]
  },
  {
   "cell_type": "code",
   "execution_count": 50,
   "metadata": {},
   "outputs": [
    {
     "name": "stdout",
     "output_type": "stream",
     "text": [
      "Yes! x is 5\n"
     ]
    }
   ],
   "source": [
    "x=5\n",
    "if x==5:\n",
    "    print('Yes! x is 5')\n",
    "    \n",
    "# The two equal signs evaluate whether x is equal to 5.  One can also use >, >=, <, <=, != (not equal to)"
   ]
  },
  {
   "cell_type": "markdown",
   "metadata": {},
   "source": [
    "Note the two different uses of the equals sign: assignment to a variable (`=`) and the logical comparison of two objects (`==`)."
   ]
  },
  {
   "cell_type": "code",
   "execution_count": 51,
   "metadata": {},
   "outputs": [],
   "source": [
    "x=5\n",
    "if x==3:\n",
    "    print('Yes! x is 3')"
   ]
  },
  {
   "cell_type": "markdown",
   "metadata": {},
   "source": [
    "`if-else` statements execute the code in the `if` block if the condition is `true`, otherwise it executes the code in the `else` block:"
   ]
  },
  {
   "cell_type": "code",
   "execution_count": 52,
   "metadata": {},
   "outputs": [
    {
     "name": "stdout",
     "output_type": "stream",
     "text": [
      "x is not 3\n",
      "x is 5\n"
     ]
    }
   ],
   "source": [
    "x=5\n",
    "if x==3:\n",
    "    print('Yes! x is 3')\n",
    "else:\n",
    "    print('x is not 3')\n",
    "    print('x is '+str(x))"
   ]
  },
  {
   "cell_type": "markdown",
   "metadata": {},
   "source": [
    "One can also have a series of conditions in the form of an `elif` block:"
   ]
  },
  {
   "cell_type": "code",
   "execution_count": 53,
   "metadata": {},
   "outputs": [
    {
     "name": "stdout",
     "output_type": "stream",
     "text": [
      "x is 5\n"
     ]
    }
   ],
   "source": [
    "x=5\n",
    "\n",
    "if x==2:\n",
    "    print('Yes! x is 2')\n",
    "elif x==3:\n",
    "    print('Yes! x is 3')\n",
    "elif x==4:\n",
    "    print('Yes! x is 4')\n",
    "else:\n",
    "    print('x is '+str(x))"
   ]
  },
  {
   "cell_type": "markdown",
   "metadata": {},
   "source": [
    "You can also have multiple conditions that are evaluated:"
   ]
  },
  {
   "cell_type": "code",
   "execution_count": 54,
   "metadata": {},
   "outputs": [
    {
     "name": "stdout",
     "output_type": "stream",
     "text": [
      "x is 5\n",
      "y is not 5\n"
     ]
    }
   ],
   "source": [
    "x=5\n",
    "y=7\n",
    "\n",
    "if x < 10 and x%5 == 0:\n",
    "    print('x is 5')\n",
    "    \n",
    "if y > 5 or y%5 != 0:\n",
    "    print('y is not 5')\n"
   ]
  },
  {
   "cell_type": "markdown",
   "metadata": {},
   "source": [
    "### Exercise\n",
    "\n",
    "Try this. Use a `while` loop and an `if-else` block to generate the Collatz sequence. Start the list with any positive integer. To get the next element of the list, check if the current element is even or odd. If even, divide it by 2. If odd, multiply by 3 and add 1. The sequence ends if you get to 1. Print out the length of the list. The Collatz conjecture states that the sequence will always convert to 1 eventually regardless of the starting integer. The proof of this conjecture is one of the great unsolved problems in mathematics."
   ]
  },
  {
   "cell_type": "code",
   "execution_count": 55,
   "metadata": {},
   "outputs": [
    {
     "name": "stdout",
     "output_type": "stream",
     "text": [
      "7\n",
      "[10, 5, 16, 8, 4, 2, 1]\n",
      "17\n",
      "[13, 40, 20, 10, 5, 16, 8, 4, 2, 1]\n",
      "235\n",
      "[13, 40, 20, 10, 5, 16, 8, 4, 2, 1]\n",
      "503\n",
      "[80, 40, 20, 10, 5, 16, 8, 4, 2, 1]\n"
     ]
    }
   ],
   "source": [
    "def Collatz(start):\n",
    "    c = [start]\n",
    "    while c[-1]!=1:\n",
    "        if c[-1]%2:\n",
    "            c.append(c[-1]*3+1)\n",
    "        else:\n",
    "            c.append(c[-1]//2)\n",
    "    print(len(c))\n",
    "    print(c[-10:])\n",
    "Collatz(10)\n",
    "Collatz(7)\n",
    "Collatz(123485324)\n",
    "Collatz(1234853459489724248972)"
   ]
  },
  {
   "cell_type": "markdown",
   "metadata": {},
   "source": [
    "### Functions\n",
    "\n",
    "Functions allow you to make a bundle of python statements that are executed whenever the function is called. Each function has arguments you pass in and value(s) that are returned. For example, you've been using the `print` function.  There are also some functions above that you have been using. Now we will make our own."
   ]
  },
  {
   "cell_type": "code",
   "execution_count": 56,
   "metadata": {},
   "outputs": [
    {
     "name": "stdout",
     "output_type": "stream",
     "text": [
      "5.0\n"
     ]
    }
   ],
   "source": [
    "# the function 'myfunc' takes two numbers, x and y, adds them together and returns the results\n",
    "def myfunc(x,y):\n",
    "    z=x+y\n",
    "    return z\n",
    "\n",
    "# to call the function, we simply invoke the name and feed it the requisite inputs:\n",
    "g=myfunc(2,3.)\n",
    "print(g)"
   ]
  },
  {
   "cell_type": "code",
   "execution_count": 57,
   "metadata": {},
   "outputs": [
    {
     "name": "stdout",
     "output_type": "stream",
     "text": [
      "12.0\n",
      "7.0\n",
      "6.0\n"
     ]
    }
   ],
   "source": [
    "# you can set input parameters to have default values\n",
    "def myfunc2(x=7.,y=5.):\n",
    "    z=x+y\n",
    "    return z\n",
    "\n",
    "print(myfunc2())\n",
    "#parameters with default arguments cannot be followed by parameters with no default argument\n",
    "#therefore, something like this wouldn't run: print(myfunc2(,9.))\n",
    "\n",
    "g=myfunc2(2.,)\n",
    "print(g)\n",
    "\n",
    "g=myfunc2(2.,4.)\n",
    "print(g)"
   ]
  },
  {
   "cell_type": "markdown",
   "metadata": {},
   "source": [
    "Let's put the `if`, `for` and `def` together into one example. Take the code above that generates a Fibonacci sequence and put it into a function called `Fibonacci`. The function should take one argument (the length of the sequence). It should check if N is less than 2 (which can't be done), or if N is greater than 1000 (which would take a very long time). If these conditions are met, print an error statement and return `None` (a python special object that generally indicates something went wrong). Otherwise, compute and return the sequence."
   ]
  },
  {
   "cell_type": "code",
   "execution_count": 58,
   "metadata": {},
   "outputs": [],
   "source": [
    "def Fibonacci(N):\n",
    "    if N > 1000:\n",
    "        print(\"This will take too long. Abort...\")\n",
    "        return None\n",
    "    elif N < 2:\n",
    "        print(\"Must have at least 2 elements.\")\n",
    "        return None\n",
    "    else:\n",
    "        fib = [1,1]\n",
    "        for i in range(N-2):\n",
    "            fib.append(fib[-2]+fib[-1])\n",
    "        return (fib[-1])"
   ]
  },
  {
   "cell_type": "markdown",
   "metadata": {},
   "source": [
    "Give your function a test run. Make sure it behaves as it should."
   ]
  },
  {
   "cell_type": "code",
   "execution_count": 59,
   "metadata": {},
   "outputs": [
    {
     "name": "stdout",
     "output_type": "stream",
     "text": [
      "Must have at least 2 elements.\n",
      "This will take too long. Abort...\n"
     ]
    },
    {
     "data": {
      "text/plain": [
       "55"
      ]
     },
     "execution_count": 59,
     "metadata": {},
     "output_type": "execute_result"
    }
   ],
   "source": [
    "Fibonacci(1)\n",
    "Fibonacci(1001)\n",
    "Fibonacci(10)"
   ]
  },
  {
   "cell_type": "markdown",
   "metadata": {},
   "source": [
    "# Importing Python packages: examples\n",
    "\n",
    "One of the major advantages of `python` is a wealth of specialized packages for doing common scientific tasks. Sure, you could write your own least-squares fitter using what we've shown you so far, but before you attempt anything like that, take a little time to \"google that\" and see if a solution exists already.\n",
    "\n",
    "You will have to `import` Python modules/packages to carry out many of the tasks you will need for your research.  As already discussed, `numpy` is probably the most useful.  `scipy` and `astropy` are other popular packages.  Lets play around with a few of these to give you an idea of how useful they can be.\n",
    "\n",
    "### Random Numbers"
   ]
  },
  {
   "cell_type": "code",
   "execution_count": 60,
   "metadata": {},
   "outputs": [],
   "source": [
    "# I like to declare all of my imported packages at the top of my script so that I know what is available.\n",
    "# Also note that there are many ways to import packages.\n",
    "\n",
    "import numpy.random as npr                   # Random number generator\n",
    "from scipy import stats                      # statistics functions\n",
    "import scipy.interpolate as si               # interpolation functions\n",
    "from astropy.cosmology import FlatLambdaCDM  # Cosmology in flat \\Lambda-CDM universe"
   ]
  },
  {
   "cell_type": "code",
   "execution_count": 61,
   "metadata": {
    "scrolled": true
   },
   "outputs": [
    {
     "name": "stdout",
     "output_type": "stream",
     "text": [
      "[0.62881687 0.83573427 0.33347058 0.90492477 0.81227176]\n",
      "[ 9.19521238 10.00993245 10.10142651 10.206389   10.19233967]\n",
      "[3 4 2 0 4 1 3 4 2 0]\n"
     ]
    }
   ],
   "source": [
    "# Random numbers are useful for many tasks.\n",
    "\n",
    "# draw 5 random numbers from a uniform distribution between 0 and 1:\n",
    "x1=npr.uniform(0, 1, size=5)\n",
    "print(x1)\n",
    "\n",
    "# draw 5 random numbers from a normal distribution with mean 10 and standard\n",
    "#  deviation 0.5:\n",
    "x2=npr.normal(10, 0.5, size=5)\n",
    "print(x2)\n",
    "\n",
    "# draw 10 random integers between 0 and 5(exclusive)\n",
    "x3=npr.randint(0,5,10)\n",
    "print(x3)"
   ]
  },
  {
   "cell_type": "markdown",
   "metadata": {},
   "source": [
    "Now you try. Generate a random array of numbers drawn from a Poisson distribution with expectation value 10. Check that the mean of the array is approximately 10 and the standard deviation is approximately `sqrt(10)`."
   ]
  },
  {
   "cell_type": "code",
   "execution_count": 62,
   "metadata": {},
   "outputs": [
    {
     "name": "stdout",
     "output_type": "stream",
     "text": [
      "[ 8 12  7  9  9  9 11  5  9  7  6  8  8 13 10  7 14 10  8 14 14 10  3 12\n",
      "  9 12  7 10  6 11 10  9 15 12  7  8 11 19 14 11 11  8 14  9  6 12  6  6\n",
      " 10 18 12  7 12 14  9 13  8 13 10 13  6 12 13 13 16 13  5  7 13 10 11 10\n",
      " 12 12 12  7 14  7  9  6 15 15 14 12 12  9 14  5  6 10 12  6 11 10 16  7\n",
      " 13 12 10 13]\n",
      "10.35\n",
      "3.1622776601683795\n",
      "3.1252999856013823\n"
     ]
    }
   ],
   "source": [
    "x4=npr.poisson(10, size=100)\n",
    "print(x4)\n",
    "print(np.mean(x4))\n",
    "print(np.sqrt(10))\n",
    "print(np.std(x4))"
   ]
  },
  {
   "cell_type": "markdown",
   "metadata": {},
   "source": [
    "Here is a practical example of using random numbers. Often in statistics, we have to compute the mean of some population based on a limited sample. For example, a survey may ask car drivers their age and make/model of car. A marketing team may want to know the average age of drivers of Ford Mustangs so they can target their audience. Calculating a mean is easy, but what about the uncertainty in that mean? You could compute the population standard deviation, but that pre-supposes the underlying distribution is Gaussian. Another method, that does not make any assumptions about the distribution is **bootstrapping**. Randomly remove values from the data and replace them with copies of other values. Compute a new mean. Do that N times and compute the standard deviation of these *bootstrapped* mean values.\n",
    "\n",
    "Below is an example of bootstrapping a sample to determine the uncertainty on a measurement.  In this case, we will compute the mean of a sample of ages, and the uncertainty on the mean."
   ]
  },
  {
   "cell_type": "code",
   "execution_count": 63,
   "metadata": {},
   "outputs": [
    {
     "name": "stdout",
     "output_type": "stream",
     "text": [
      "22.555555555555557\n",
      "[6 3 6 8 6 8 7 4 8]\n",
      "[35. 19. 35. 21. 35. 21. 22. 21. 21.]\n",
      "25.555555555555557\n",
      "[4 0 6 3 8 2 8 0 1]\n",
      "[21. 19. 35. 19. 21. 22. 21. 19. 20.]\n",
      "21.88888888888889\n",
      "[5 6 3 3 5 3 8 7 3]\n",
      "[24. 35. 19. 19. 24. 19. 21. 22. 19.]\n",
      "22.444444444444443\n",
      "[2 4 6 4 4 8 4 3 2]\n",
      "[22. 21. 35. 21. 21. 21. 21. 19. 22.]\n",
      "22.555555555555557\n",
      "[6 4 5 2 5 2 7 4 6]\n",
      "[35. 21. 24. 22. 24. 22. 22. 21. 35.]\n",
      "25.11111111111111\n",
      "[0 0 4 4 3 6 0 7 1]\n",
      "[19. 19. 21. 21. 19. 35. 19. 22. 20.]\n",
      "21.666666666666668\n",
      "[3 3 2 3 3 4 2 3 3]\n",
      "[19. 19. 22. 19. 19. 21. 22. 19. 19.]\n",
      "19.88888888888889\n",
      "[3 3 0 7 2 2 7 6 1]\n",
      "[19. 19. 19. 22. 22. 22. 22. 35. 20.]\n",
      "22.22222222222222\n",
      "[3 2 3 3 8 5 0 0 4]\n",
      "[19. 22. 19. 19. 21. 24. 19. 19. 21.]\n",
      "20.333333333333332\n",
      "[1 0 7 0 1 7 3 3 5]\n",
      "[20. 19. 22. 19. 20. 22. 19. 19. 24.]\n",
      "20.444444444444443\n",
      "1.7946766275657757\n"
     ]
    }
   ],
   "source": [
    "# x below represents a measurement of the ages of N people, where N=x.size\n",
    "x=np.array([19.,20.,22.,19.,21.,24.,35.,22.,21.])\n",
    "# This is the mean age:\n",
    "print(np.mean(x))\n",
    "\n",
    "# Now we \"bootstrap\" to determine the error on this measurement:\n",
    "ntrials=10 # number of times we will draw a random sample of N ages\n",
    "x_arr=np.zeros(ntrials) # store the mean of each random sample in this array\n",
    "\n",
    "for ii in range(ntrials):\n",
    "    # draw N random integers, where N equals the number of samples in x\n",
    "    ix=npr.randint(0,x.size,x.size) # (low, high, size)\n",
    "    print(ix)\n",
    "    # subscript the original array with these random indices to get a new sample and compute the mean\n",
    "    x_arr[ii]=np.mean(x[ix])\n",
    "    #array ix is used as indice to pull values from corresponding index of x to the new array x[ix]\n",
    "    print(x[ix])\n",
    "    print(x_arr[ii])\n",
    "\n",
    "# Finally, compute the standard deviation of the array of mean values to get the uncertainty on the *mean* age\n",
    "print(np.std(x_arr))\n"
   ]
  },
  {
   "cell_type": "markdown",
   "metadata": {},
   "source": [
    "### Binning Data\n",
    "\n",
    "Another common statistical task is *binning* data. This is often done on noisy spectra to make \"real\" features more visible. In the following example, we are going to bin galaxies based on their redshift and compute the mean stellar mass for each bin."
   ]
  },
  {
   "cell_type": "code",
   "execution_count": 64,
   "metadata": {},
   "outputs": [
    {
     "name": "stdout",
     "output_type": "stream",
     "text": [
      "[0.0, 1.0, 2.0, 3.0]\n",
      "[10.54286107 10.48184664 10.44947429]\n"
     ]
    }
   ],
   "source": [
    "# This is an example of binning data and computing a particular value for the data in each bin.\n",
    "# The scipy package is used to carry out this task.\n",
    "\n",
    "# Lets make some fake data of galaxies spanning random redshifts between 0<z<3:\n",
    "z=npr.rand(10000)*3.\n",
    "# And these galaxies have random stellar masses between 9<log(M/Msun)<12:\n",
    "m=npr.rand(10000)*3.+9.\n",
    "\n",
    "# Now we want to compute the median stellar mass for galaxies at 0<z<1, 1<z<2, and 2<z<3:\n",
    "# So lets declalre the bin edges\n",
    "bins=[0.,1.,2.,3.]\n",
    "\n",
    "m_med,xbins,btemp = stats.binned_statistic(z,m,statistic='median',bins=bins)\n",
    "print(bins)\n",
    "print(m_med)"
   ]
  },
  {
   "cell_type": "code",
   "execution_count": 65,
   "metadata": {},
   "outputs": [
    {
     "name": "stdout",
     "output_type": "stream",
     "text": [
      "[0. 1. 2. 3.]\n",
      "[1 2 1 ... 1 1 3]\n"
     ]
    }
   ],
   "source": [
    "print(xbins)  # return bin edges (here xbins = bins), useful when bin is specified as an int (number of equal width bins)\n",
    "print(btemp)  # array of bin indices of each value in the sample"
   ]
  },
  {
   "cell_type": "markdown",
   "metadata": {},
   "source": [
    "### Interpolation\n",
    "\n",
    "In science, we measure *discrete* values of data. Sometimes you need to interpolate between two (or more) points. A common example is drawing a smooth line through the data when making a graph. You could do this by hand using `numpy`, but the module `scipy` has an entire interpolation package that offers an easy solution."
   ]
  },
  {
   "cell_type": "code",
   "execution_count": 66,
   "metadata": {},
   "outputs": [
    {
     "name": "stdout",
     "output_type": "stream",
     "text": [
      "[0. 1. 2. 3. 4.]\n",
      "[ 0.  1.  4.  9. 16.]\n",
      "[ 0.  1.  4.  9. 16.]\n",
      "0.5\n",
      "[ 0.  1.  4.  9. 16.]\n",
      "0.25000000000000006\n"
     ]
    }
   ],
   "source": [
    "# Interpolating between data points is another common task.  We'll again use scipy to do some interpolating:\n",
    "import numpy as np\n",
    "\n",
    "x=np.arange(5.)\n",
    "y=x**2\n",
    "\n",
    "print(x)\n",
    "print(y)\n",
    "\n",
    "# Linear interpolation\n",
    "f=si.interp1d(x,y,kind='linear')\n",
    "# si.interp1d returns a function, f, which can be used to feed values to.\n",
    "# For example, lets evaluate f(x)\n",
    "print(f(x))\n",
    "# And now a different value\n",
    "print(f(0.5))\n",
    "\n",
    "# We can employ a higher order interpolation scheme to get more precise results (assuming a smoothly varying function)\n",
    "f1=si.interp1d(x,y,kind='quadratic')\n",
    "print(f1(x))\n",
    "print(f1(0.5))"
   ]
  },
  {
   "cell_type": "code",
   "execution_count": 67,
   "metadata": {},
   "outputs": [
    {
     "name": "stdout",
     "output_type": "stream",
     "text": [
      "[0.  0.5 1.  1.5 2.  2.5 3.  3.5 4. ]\n",
      "[ 0.    0.25  1.    2.25  4.    6.25  9.   12.25 16.  ]\n",
      "[ 0.   0.5  1.   2.5  4.   6.5  9.  12.5 16. ]\n"
     ]
    },
    {
     "data": {
      "text/plain": [
       "[<matplotlib.lines.Line2D at 0x7fd9cdd44278>]"
      ]
     },
     "execution_count": 67,
     "metadata": {},
     "output_type": "execute_result"
    },
    {
     "data": {
      "image/png": "[encoded data removed]",
      "text/plain": [
       "<Figure size 720x360 with 2 Axes>"
      ]
     },
     "metadata": {
      "needs_background": "light"
     },
     "output_type": "display_data"
    }
   ],
   "source": [
    "# what happens if we create another array within the range of x\n",
    "x1 = np.arange(0., 4.5, 0.5)\n",
    "print(x1)\n",
    "print(x1**2)\n",
    "print(f(x1))\n",
    "\n",
    "%matplotlib inline\n",
    "from matplotlib import pyplot as plt\n",
    "\n",
    "fig, axarr = plt.subplots(1,2, figsize=(10,5))\n",
    "ax=axarr[0]\n",
    "ax.plot(x,f(x),color='blue',marker='s',ms=10,ls='None',alpha=0.5)\n",
    "ax.plot(x1,f(x1),color='red',marker='x',ms=10,ls='None',alpha=0.5)\n",
    "ax.plot(x1,x1**2,color='grey',marker='o',ms=10,ls='None',alpha=0.5)\n",
    "# we see that interpolation is not always spot on if we give it mismatching relation\n",
    "\n",
    "# let's try again with quadratic interpolation\n",
    "ax1=axarr[1]\n",
    "ax1.plot(x,f1(x),color='blue',marker='s',ms=10,ls='None',alpha=0.5)\n",
    "ax1.plot(x1,f1(x1),color='red',marker='x',ms=10,ls='None',alpha=0.5)\n",
    "ax1.plot(x1,x1**2,color='grey',marker='o',ms=10,ls='None',alpha=0.5)\n",
    "# this time the fit is much better (more spot on) because we chose a more fitting relation for the interpolation"
   ]
  },
  {
   "cell_type": "markdown",
   "metadata": {},
   "source": [
    "### Astronomy-specific Example\n",
    "\n",
    "Now we get into a really specific case. `Astropy` is a collection of several packages that are very useful for astronomers. It is actively developed and has new stuff all the time. Here, we show how you can use the cosmology calculator to compute the age of the Universe given a redshift."
   ]
  },
  {
   "cell_type": "code",
   "execution_count": 68,
   "metadata": {
    "scrolled": true
   },
   "outputs": [
    {
     "name": "stdout",
     "output_type": "stream",
     "text": [
      "13.466983946956368 Gyr\n",
      "[13.46698395  5.75164694  3.22662706  2.11252719] Gyr\n"
     ]
    }
   ],
   "source": [
    "# The astropy package has all kinds of astronomy related routines.\n",
    "# Here, we define a cosmology that allows to compute things like \n",
    "# the age of the universe or Hubble constant at different redshifts\n",
    "\n",
    "cosmo = FlatLambdaCDM(H0=70., Om0=0.3)\n",
    "redshift=0.\n",
    "print(cosmo.age(redshift))\n",
    "\n",
    "redshift=[0,1,2,3]\n",
    "print(cosmo.age(redshift))"
   ]
  },
  {
   "cell_type": "code",
   "execution_count": 69,
   "metadata": {},
   "outputs": [
    {
     "data": {
      "text/plain": [
       "[<matplotlib.lines.Line2D at 0x7fd9cdef2358>]"
      ]
     },
     "execution_count": 69,
     "metadata": {},
     "output_type": "execute_result"
    },
    {
     "data": {
      "image/png": "[encoded data removed]",
      "text/plain": [
       "<Figure size 720x360 with 2 Axes>"
      ]
     },
     "metadata": {
      "needs_background": "light"
     },
     "output_type": "display_data"
    }
   ],
   "source": [
    "# let's try visualize redshift vs age\n",
    "redshifts = np.arange(0,10,0.2)\n",
    "\n",
    "fig2, axarr2 = plt.subplots(1,2,figsize=(10,5))\n",
    "ax2=axarr2[0]\n",
    "ax2.plot(redshifts, cosmo.age(redshifts),color='grey',marker='o',ls='None')\n",
    "\n",
    "# looks like an inverse relationship. Shall we try?\n",
    "# when plotting the data needs a bit massaging because the scipy.interpld function only has ‘zero’, ‘slinear’, ‘quadratic’ and ‘cubic’\n",
    "ax3 = axarr2[1]\n",
    "x3 = np.arange(0,11,1)\n",
    "f_age=si.interp1d(x3,1/cosmo.age(x3),kind='linear')\n",
    "ax3.plot(redshifts, 1/cosmo.age(redshifts),color='grey',marker='o',ls='None')\n",
    "ax3.plot(x3, f_age(x3),color='yellow',marker='s',ls='None')\n",
    "ax3.plot(redshifts, f_age(redshifts),color='red',marker='x',ls='None')\n",
    "# looks like a good fit!"
   ]
  },
  {
   "cell_type": "markdown",
   "metadata": {},
   "source": [
    "# Running code\n",
    "\n",
    "There are many environments in which one can run Python code:\n",
    "- iPython notebooks like this one are good for running quick snippets of code.\n",
    "- Spyder (provided with Anaconda) provides a space for writing scripts, executing them, and also for easily looking up definitions of different functions. Very similar to the IDL graphical IDE.\n",
    "- One can also write code in a plain text editor, like Emacs/Aquamacs.  Then execute the code in a terminal running Python or iPython.\n",
    "\n",
    "## Running code from the command-line\n",
    "\n",
    "This is the most common and *agnostic* way to run your code. If you send your code to someone else, assume they will run it from the command line. If you are running your code on an HPC cluster, it needs to be run from the command-line. Lastly, writing code that runs with minimal user-interaction makes it more repeatable.\n",
    "\n",
    "There are two aspects of writing command-line code that you should be familiar with: 1) getting arguments from the command line; and 2) working with files. The first is done through the `sys.argv` variable, the second is done with `os.path` package. Here we look at each briefly.\n",
    "\n",
    "### `sys.argv`\n",
    "\n",
    "Quite simply, this is a list of the command-line arguments. You've seen several unix commands. Suppose we wanted to write the equivalent of the `cp` command, but using a python script. Usually, you run the command like this from the command-line:\n",
    "\n",
    "    cp file1 file2\n",
    "\n",
    "That would copy file1 to file2. So our python script will need to get both the source and destination file name. Here is how I would write a simple script to do the same thing as `cp`:\n",
    "\n",
    "    import sys\n",
    "    f1 = sys.argv[1]\n",
    "    f2 = sys.argv[2]\n",
    "    print (\"copying %s to %s\" % (f1,f2))\n",
    "    \n",
    "    # Here would be the code to actually copy one file to the other\n",
    "    \n",
    "Note: you can try to print out sys.argv on the next command-block. It will show you how this ipython notebook was actually run. But it is not very useful for doing anything practical.\n",
    "\n",
    "With more complicated code, your command-line arguments may also get rather complicated (you may have optional arguments, switches, etc). There is a really good module in `python` for dealing with such complicated arguments so that your script isn't filled with code just to deal with parsing `sys.argv`. Have a look at the [argparse](https://docs.python.org/2/library/argparse.html) module when you get to the point where you need to deal with complicated command-lines arguments."
   ]
  },
  {
   "cell_type": "code",
   "execution_count": 70,
   "metadata": {},
   "outputs": [
    {
     "name": "stdout",
     "output_type": "stream",
     "text": [
      "['/Users/Helen/anaconda3/lib/python3.6/site-packages/ipykernel_launcher.py', '-f', '/Users/Helen/Library/Jupyter/runtime/kernel-b37131f6-8710-4cbc-8d7d-5174f7224869.json']\n"
     ]
    }
   ],
   "source": [
    "print(sys.argv)"
   ]
  },
  {
   "cell_type": "markdown",
   "metadata": {},
   "source": [
    "## `os.path`\n",
    "\n",
    "Up until now, we have been printing output to the screen. You can still do that with command-line  scripts, but once you close down the terminal, that output is lost. Your code will need to write to output files, but likely will also have to read from files. `os.path` gives you some functions that are useful when dealing with files.\n",
    "\n",
    "You may have to check to see if a file exists, if a folder exists, etc."
   ]
  },
  {
   "cell_type": "code",
   "execution_count": 71,
   "metadata": {},
   "outputs": [
    {
     "name": "stdout",
     "output_type": "stream",
     "text": [
      "Oh good, you can list files\n",
      "It is safe to use this\n",
      "you have a tmp folder\n",
      "tmp/some/file\n"
     ]
    }
   ],
   "source": [
    "# Check to see if a file exists\n",
    "if os.path.isfile('/bin/ls'):\n",
    "    print(\"Oh good, you can list files\")\n",
    "\n",
    "if not os.path.isfile('test_output.dat'):\n",
    "    print (\"It is safe to use this\")\n",
    "    \n",
    "# Check if a folder exists\n",
    "if os.path.isdir('/tmp'):\n",
    "    print (\"you have a tmp folder\")\n",
    "    \n",
    "# construct the path to a file using the correct separator\n",
    "of = os.path.join('tmp','some','file')\n",
    "print (of)\n"
   ]
  },
  {
   "cell_type": "markdown",
   "metadata": {},
   "source": [
    "## File access with `open`\n",
    "\n",
    "In order to access the contents of an existing file, or write contents into a new file, you use the `open` function. This will return a file object that you can use to read or write data. Here are some common tasks. First, let's write data to a file:"
   ]
  },
  {
   "cell_type": "code",
   "execution_count": 72,
   "metadata": {},
   "outputs": [],
   "source": [
    "# Open a file for writing (note the 'w')\n",
    "f = open('a_test_file', 'w')\n",
    "# write a header, always a good idea!\n",
    "f.write(\"# This is a test data file. It contains 3 columns\\n\")\n",
    "for i in range(10):\n",
    "    f.write(\"%d %d %d\\n\" % (i, 2*i, 3*i))\n",
    "# We need to \"close\" the file to make sure it is written to disk\n",
    "f.close()\n",
    "\n",
    "f1 = open('another_test', 'w')\n",
    "f1.write(\"# This is another test data file. It contains 4 columns\\n\")\n",
    "for i in range(7):\n",
    "    f1.write(\"%d %d %d %d\\n\" % (2*i, 4*i, 8*i, 16*i))\n",
    "f1.close()"
   ]
  },
  {
   "cell_type": "markdown",
   "metadata": {},
   "source": [
    "Now, depending what your current working directory is (see beginning of tutorial), there will be a file called `a_test_file` in that folder. If you like, have a look at it using an editor or file viewer. It will have 10 rows and 3 columns. Note that we needed to have a \"newline\" (`\\n`) at the end of the string we used in the `write()` function, otherwise the output would have been one long line.\n",
    "\n",
    "Now, let's read the file back into python. You can either read the whole thing in at once as a single string, read it in line-by-line or read all lines in at once as a list."
   ]
  },
  {
   "cell_type": "markdown",
   "metadata": {},
   "source": [
    "The previous file looks like this:\n",
    "\n",
    "`# This is a test data file. It contains 3 columns\n",
    "0 0 0\n",
    "1 2 3\n",
    "2 4 6\n",
    "3 6 9\n",
    "4 8 12\n",
    "5 10 15\n",
    "6 12 18\n",
    "7 14 21\n",
    "8 16 24\n",
    "9 18 27\n",
    "`"
   ]
  },
  {
   "cell_type": "code",
   "execution_count": 73,
   "metadata": {},
   "outputs": [
    {
     "name": "stdout",
     "output_type": "stream",
     "text": [
      "# This is a test data file. It contains 3 columns\n",
      "0 0 0\n",
      "1 2 3\n",
      "2 4 6\n",
      "3 6 9\n",
      "4 8 12\n",
      "5 10 15\n",
      "6 12 18\n",
      "7 14 21\n",
      "8 16 24\n",
      "9 18 27\n",
      "\n",
      "# This is a test data file. It contains 3 columns\n",
      "\n",
      "['#', 'This', 'is', 'a', 'test', 'data', 'file.', 'It', 'contains', '3', 'columns\\n']\n",
      "['# This is a test data file. It contains 3 columns\\n', '0 0 0\\n', '1 2 3\\n', '2 4 6\\n', '3 6 9\\n', '4 8 12\\n', '5 10 15\\n', '6 12 18\\n', '7 14 21\\n', '8 16 24\\n', '9 18 27\\n']\n"
     ]
    }
   ],
   "source": [
    "# This time we use 'r' to indicate we only want to read the file\n",
    "f = open('a_test_file', 'r')\n",
    "everything = f.read()\n",
    "print(everything)\n",
    "\n",
    "# This brings us back to the beginning of the file\n",
    "f.seek(0)\n",
    "one_row = f.readline()\n",
    "print(one_row)\n",
    "list_one = one_row.split(' ')\n",
    "print(list_one)\n",
    "\n",
    "f.seek(0)\n",
    "list_of_rows = f.readlines()\n",
    "f.close()\n",
    "print(list_of_rows)"
   ]
  },
  {
   "cell_type": "markdown",
   "metadata": {},
   "source": [
    "Use `print()` to have a look at the data we read in. Note that the rows will include the newline character (`\\n`). You can use the `string.strip()` function to get rid of it.\n",
    "\n",
    "In the next tutorial (visualization), we'll show you a better way to read in standard format data files like this. But sometimes you'll be faced with data that these more automatic functions can't handle, so it's good to know how to read it in by hand."
   ]
  },
  {
   "cell_type": "code",
   "execution_count": 74,
   "metadata": {},
   "outputs": [
    {
     "name": "stdout",
     "output_type": "stream",
     "text": [
      "['# This is a test data file. It contains 3 columns', '0 0 0', '1 2 3', '2 4 6', '3 6 9', '4 8 12', '5 10 15', '6 12 18', '7 14 21', '8 16 24', '9 18 27']\n"
     ]
    }
   ],
   "source": [
    "stripped_list = []\n",
    "for i in list_of_rows:\n",
    "    stripped_list.append(i.strip())\n",
    "    \n",
    "print(stripped_list)"
   ]
  },
  {
   "cell_type": "markdown",
   "metadata": {},
   "source": [
    "# Debugging\n",
    "\n",
    "You almost never write a script without introducing bugs (the term comes from when computers were mechanical machines and insects literallly interfered with the running of the code). Luckily, python gives a very nice \"traceback\" report when it encounters a problem with what you've written. let's just generate a mistake on purpose and see what happens."
   ]
  },
  {
   "cell_type": "code",
   "execution_count": 75,
   "metadata": {},
   "outputs": [
    {
     "name": "stdout",
     "output_type": "stream",
     "text": [
      "[0 1 2 3 4]\n",
      "[0 1 2]\n"
     ]
    }
   ],
   "source": [
    "import numpy as np\n",
    "x1=np.arange(5)\n",
    "x2=np.arange(3)\n",
    "print(x1)\n",
    "print(x2)\n",
    "# uncomment the following line to see the error\n",
    "#print(x1+x2)"
   ]
  },
  {
   "cell_type": "markdown",
   "metadata": {},
   "source": [
    "This traceback is pretty short, but it shows exactly where the problem occurs (indicated with `---->`). And the explanation is pretty clear (when you're used to `numpy` arrays). You can't add two arrays unless they have the same shape.\n",
    "\n",
    "These kinds of compile-time bugs are the easiest to fix. You've written something wrong (syntax error), or you've done some illegal operation (like above) and your code grinds to a halt. You fix the problem and then find another and so on until your code runs.\n",
    "\n",
    "But then you might not get the \"right\" answer. Or your code does something unexpected. Or you get a \"divide by zero\" error and it's not completely obvious where things went wrong. That's when you need to do real debugging. There are several approaches to dealing with this:\n",
    "\n",
    "- Print the values of variables throughout the program by simply injecting \"print statements\" in your code. This is easy to do and works \"anywhere\". Usually, with a few of these you can see the dumb mistake you made (but python didn't catch).\n",
    "- Use a debugger. `Spyder` has several debugging tools. You can set checkpoints (where you want your code to stop) and examine the values of variables. But you need to load your program into `Spyder` and run it from there.\n",
    "- If you want to run your script in the Python interpreter and have it leave all the variables available after a run: \n",
    "    - `>>> exec(open(\"myscript.py\").read(), globals())`"
   ]
  },
  {
   "cell_type": "markdown",
   "metadata": {},
   "source": [
    "# Final exercise\n",
    "### (if time permits)\n",
    "To wrap this all up, we're going to leave the notebook and get you to write a stand-alone script that can be run from the command-line. The script should:\n",
    "- get the name of a file from command-line argument\n",
    "- open the file and read its contents (columns of numbers) \n",
    "- convert columns in the file into `numpy` arrays,\n",
    "- compute and report the mean of each column.\n",
    "Try to use the concepts we've covered in this tutorial (e.g. make a function that reads columns and converts to arrays). Run the script on the file we created earlier (`a_test_file`)."
   ]
  },
  {
   "cell_type": "code",
   "execution_count": 76,
   "metadata": {},
   "outputs": [],
   "source": [
    "# Pei's work-through of the exercise is in the file 'mean-calc.py'"
   ]
  }
 ],
 "metadata": {
  "kernelspec": {
   "display_name": "Python 3",
   "language": "python",
   "name": "python3"
  },
  "language_info": {
   "codemirror_mode": {
    "name": "ipython",
    "version": 3
   },
   "file_extension": ".py",
   "mimetype": "text/x-python",
   "name": "python",
   "nbconvert_exporter": "python",
   "pygments_lexer": "ipython3",
   "version": "3.6.10"
  }
 },
 "nbformat": 4,
 "nbformat_minor": 1
}
